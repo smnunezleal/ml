{
 "cells": [
  {
   "cell_type": "markdown",
   "source": [
    "# Module 2: Complex Models"
   ],
   "metadata": {}
  },
  {
   "cell_type": "markdown",
   "source": [
    "In this exercise we will apply the machine learning models, we saw in todays exercise.\n",
    "We will visualize the learned rules of the models with the `plot_decision_boundaries()` function."
   ],
   "metadata": {}
  },
  {
   "cell_type": "code",
   "execution_count": null,
   "source": [
    "%matplotlib inline\n",
    "import matplotlib.pyplot as plt\n",
    "from matplotlib.colors import LinearSegmentedColormap, ListedColormap\n",
    "\n",
    "try:\n",
    "    # Try to use the BI style sheet for plots\n",
    "    plt.style.use('matplotlibrc')\n",
    "    plt.rcParams['axes.prop_cycle'] = plt.cycler(color=[(136/256, 76/256, 255/256), (60/256, 170/256, 207/256), (12/256, 229/256, 177/256)]) \n",
    "    \n",
    "    colors = [(0.53125, 0.296875, 0.99609375), (0.453125, 0.3984375, 0.9453125), (0.375, 0.4921875, 0.89453125), (0.3046875, 0.578125, 0.8515625), (0.234375, 0.6640625, 0.80859375), (0.16015625, 0.75390625, 0.76171875), (0.09375, 0.8359375, 0.72265625), (0.046875, 0.89453125, 0.69140625), (0.0, 0.875, 0.6640625)]\n",
    "    bicmap = LinearSegmentedColormap.from_list(name='BIcmp', \n",
    "                                                colors=colors,\n",
    "                                                N=len(colors))\n",
    "    cm_bright = ListedColormap([(0.53125, 0.296875, 0.99609375), (12/256, 229/256, 177/256)])\n",
    "except:\n",
    "    bicmap = plt.cm.BuGn \n",
    "    colors = ['r', 'g', 'b']"
   ],
   "outputs": [],
   "metadata": {}
  },
  {
   "cell_type": "markdown",
   "source": [
    "## **Exercise 2.1**"
   ],
   "metadata": {}
  },
  {
   "cell_type": "markdown",
   "source": [
    "Fit each of the models and visualize the decision boundary. How does the theory behind the learning algorithm explain the decision boundaries you see in the plots?\n",
    "\n",
    "Finally, decide which model you would use to solve this particular problem."
   ],
   "metadata": {}
  },
  {
   "cell_type": "code",
   "execution_count": null,
   "source": [
    "import pandas as pd\n",
    "# Import the dataset\n",
    "data = pd.read_csv('data.csv')\n",
    "# Split into feature columns\n",
    "features = data[['x', 'y']].values\n",
    "# And the target column\n",
    "target = data['z'].astype(int).values\n",
    "data.head()"
   ],
   "outputs": [],
   "metadata": {}
  },
  {
   "cell_type": "code",
   "execution_count": null,
   "source": [
    "import matplotlib.pyplot as plt\n",
    "# Visualize the dataset\n",
    "data.plot.scatter(x='x', y='y', c=data['z'], colormap=cm_bright, colorbar=False)"
   ],
   "outputs": [],
   "metadata": {}
  },
  {
   "cell_type": "code",
   "execution_count": null,
   "source": [
    "import numpy as np\n",
    "\n",
    "# Helper function for plotting the decision boundaries of a trained model\n",
    "def plot_decision_boundaries(clf, x, y):\n",
    "    h = 0.02  \n",
    "\n",
    "    x_min, x_max = x[:, 0].min() - .5, x[:, 0].max() + .5\n",
    "    y_min, y_max = x[:, 1].min() - .5, x[:, 1].max() + .5\n",
    "    xx, yy = np.meshgrid(np.arange(x_min, x_max, h),\n",
    "                            np.arange(y_min, y_max, h))\n",
    "\n",
    "    if hasattr(clf, \"decision_function\"):\n",
    "        Z = clf.decision_function(np.c_[xx.ravel(), yy.ravel()])\n",
    "    else:\n",
    "        Z = clf.predict_proba(np.c_[xx.ravel(), yy.ravel()])[:, 1]\n",
    "\n",
    "    Z = Z.reshape(xx.shape)\n",
    "    plt.contourf(xx, yy, Z, cmap=bicmap, alpha=.8)\n",
    "    plt.scatter(x[:, 0], x[:, 1], c=y, cmap=cm_bright, edgecolors='k')"
   ],
   "outputs": [],
   "metadata": {}
  },
  {
   "cell_type": "markdown",
   "source": [
    "### **Exercise 2.1.1: Decision Tree**"
   ],
   "metadata": {}
  },
  {
   "cell_type": "code",
   "execution_count": null,
   "source": [
    "# Import the DecisionTreeClassifier\n",
    "from sklearn.tree import DecisionTreeClassifier"
   ],
   "outputs": [],
   "metadata": {}
  },
  {
   "cell_type": "code",
   "execution_count": null,
   "source": [
    "# Initialize the DecisionTree\n",
    "# TODO\n",
    "# Fit the decision tree on the data\n",
    "# TODO\n",
    "# Plot the DecisionTree boundaries\n",
    "# TODO"
   ],
   "outputs": [],
   "metadata": {}
  },
  {
   "cell_type": "markdown",
   "source": [
    "### **Exercise 2.1.2: RandomForest**"
   ],
   "metadata": {}
  },
  {
   "cell_type": "code",
   "execution_count": null,
   "source": [
    "# Import the RandomForestClassifier\n",
    "from sklearn.ensemble import RandomForestClassifier"
   ],
   "outputs": [],
   "metadata": {}
  },
  {
   "cell_type": "code",
   "execution_count": null,
   "source": [
    "# Initialize the RandomForestClassifier\n",
    "# TODO\n",
    "# Fit the random forest on the data\n",
    "# TODO\n",
    "# Plot the random forest decision boundaries\n",
    "# TODO"
   ],
   "outputs": [],
   "metadata": {}
  },
  {
   "cell_type": "markdown",
   "source": [
    "### **Exercise 2.1.3: Gradient Boosting**"
   ],
   "metadata": {}
  },
  {
   "cell_type": "code",
   "execution_count": null,
   "source": [
    "# Import the GradientBoostingClassifier\n",
    "from sklearn.ensemble import GradientBoostingClassifier"
   ],
   "outputs": [],
   "metadata": {}
  },
  {
   "cell_type": "code",
   "execution_count": null,
   "source": [
    "# Initialize the GradientBoostingClassifier\n",
    "# TODO\n",
    "# Fit the gradient boosting model on the data\n",
    "# TODO)\n",
    "# Plot the ensemble decision boundaries\n",
    "# TODO"
   ],
   "outputs": [],
   "metadata": {}
  },
  {
   "cell_type": "markdown",
   "source": [
    "### **Exercise 2.1.4: Multi-layer Perceptron**"
   ],
   "metadata": {}
  },
  {
   "cell_type": "code",
   "execution_count": null,
   "source": [
    "# Import the MLPClassifier\n",
    "from sklearn.neural_network import MLPClassifier"
   ],
   "outputs": [],
   "metadata": {}
  },
  {
   "cell_type": "code",
   "execution_count": null,
   "source": [
    "# Initialize the MLPClassifier\n",
    "# TODO\n",
    "# Fit the neural network on the data\n",
    "# TODO\n",
    "# Plot the mlp decision boundaries\n",
    "# TODO"
   ],
   "outputs": [],
   "metadata": {}
  },
  {
   "cell_type": "markdown",
   "source": [
    "## **Exercise 1.2**"
   ],
   "metadata": {}
  },
  {
   "cell_type": "markdown",
   "source": [
    "In this part of the exercise we use a regression problem and test different models and compare how well they fit the true target function.\n",
    "\n",
    "Explain the fit of the different models.\n",
    "Which model would you use to solve this particular problem?"
   ],
   "metadata": {}
  },
  {
   "cell_type": "code",
   "execution_count": null,
   "source": [
    "reg_data = pd.read_csv('data_regression.csv')\n",
    "reg_features = reg_data[['x']].values\n",
    "reg_target = reg_data['y'].values\n",
    "reg_data.head()"
   ],
   "outputs": [],
   "metadata": {}
  },
  {
   "cell_type": "code",
   "execution_count": null,
   "source": [
    "# Visualize the dataset\n",
    "reg_data.plot.scatter(x='x', y='y')"
   ],
   "outputs": [],
   "metadata": {}
  },
  {
   "cell_type": "code",
   "execution_count": null,
   "source": [
    "# Helper function to plot the learned function and compare it to the true function\n",
    "def plot_regression(rg, features, target):\n",
    "    x_lin = np.linspace(features.min(), features.max(), 100)\n",
    "\n",
    "    plt.scatter(features, rg.predict(features), color=(136/256, 76/256, 255/256), s=19, marker='o', label=\"prediction\")\n",
    "    plt.plot(x_lin, rg.predict(x_lin.reshape(-1, 1)), color=(60/256, 170/256, 207/256), linewidth=2, label=\"smooth prediction\")\n",
    "    plt.scatter(features, target, color=(12/256, 229/256, 177/256), s=19, marker='o', label=\"y\")\n",
    "    plt.plot(x_lin, np.sin(x_lin), color=(12/256, 229/256, 177/256), linewidth=2, label=\"true function\")\n",
    "\n",
    "\n",
    "    plt.legend(loc='lower left')\n",
    "    plt.show()"
   ],
   "outputs": [],
   "metadata": {}
  },
  {
   "cell_type": "markdown",
   "source": [
    "### **Exercise 1.2.1: Linear Regression**"
   ],
   "metadata": {}
  },
  {
   "cell_type": "code",
   "execution_count": null,
   "source": [
    "# Import the LinearRegression model\n",
    "from sklearn.linear_model import LinearRegression"
   ],
   "outputs": [],
   "metadata": {}
  },
  {
   "cell_type": "code",
   "execution_count": null,
   "source": [
    "# Initialize the LinearRegression model\n",
    "# TODO\n",
    "# Fit the model on the data\n",
    "# TODO\n",
    "# Plot the learned function\n",
    "# TODO"
   ],
   "outputs": [],
   "metadata": {}
  },
  {
   "cell_type": "markdown",
   "source": [
    "### **Exercise 1.2.2: Polynomial Regression**"
   ],
   "metadata": {}
  },
  {
   "cell_type": "code",
   "execution_count": null,
   "source": [
    "# Import the PolynomialFeatures class\n",
    "from sklearn.preprocessing import PolynomialFeatures"
   ],
   "outputs": [],
   "metadata": {}
  },
  {
   "cell_type": "code",
   "execution_count": null,
   "source": [
    "# Intialize the PolynomialFeatures\n",
    "# TODO\n",
    "# Use fit_perform to convert data into polynomial features\n",
    "# TODO"
   ],
   "outputs": [],
   "metadata": {}
  },
  {
   "cell_type": "code",
   "execution_count": null,
   "source": [
    "# Initialize a LinearRegression model\n",
    "# TODO\n",
    "# Train the LinearRegression model on the polynomial features\n",
    "# TODO"
   ],
   "outputs": [],
   "metadata": {}
  },
  {
   "cell_type": "code",
   "execution_count": null,
   "source": [
    "# With this setup we can't use plot_regression(), because the function poly_reg use different datasets\n",
    "# Instead can create a pipeline that takes the original dataset and converts it into polynomial feature space before feeding it to the linear regression model\n",
    "from sklearn.pipeline import make_pipeline\n",
    "\n",
    "# Use make_pipeline() to create a pipeline of PolynomialFeatures() and LinearRegression() by passing the instances of these two classes to make_pipeline()\n",
    "# TODO\n",
    "# The pipeline can now be treated as a LinearRegression model\n",
    "# Fit the pipeline with the original regression dataset\n",
    "# TODO\n",
    "# Pass the pipeline to the plot_regression() function together with the original regression dataset\n",
    "# TODO"
   ],
   "outputs": [],
   "metadata": {}
  },
  {
   "cell_type": "markdown",
   "source": [
    "**Try to adjust the number of polynomials with PolynomialFeatures(x), where x is maximum degree of polynomial features.**\n",
    "Which degree fits the data best?"
   ],
   "metadata": {}
  },
  {
   "cell_type": "code",
   "execution_count": null,
   "source": [
    "# TODO"
   ],
   "outputs": [],
   "metadata": {}
  },
  {
   "cell_type": "markdown",
   "source": [
    "### **Exercise 1.2.3: SVM**"
   ],
   "metadata": {}
  },
  {
   "cell_type": "code",
   "execution_count": null,
   "source": [
    "# Import the Support Vector Regressor (SVR)\n",
    "from sklearn.svm import SVR"
   ],
   "outputs": [],
   "metadata": {}
  },
  {
   "cell_type": "code",
   "execution_count": null,
   "source": [
    "# Initialize the SVR model\n",
    "# TODO\n",
    "# Fit the Support Vector Machine\n",
    "# TODO\n",
    "# Plot the learned regression function\n",
    "# TODO"
   ],
   "outputs": [],
   "metadata": {}
  },
  {
   "cell_type": "markdown",
   "source": [
    "## **Bonus**"
   ],
   "metadata": {}
  },
  {
   "cell_type": "markdown",
   "source": [
    "There are a couple of models we haven't applied yet.\n",
    "\n",
    "Apply the following models to the classification problem\n",
    "- Logistic Regression (from sklearn.linear_model import LogisticRegression)\n",
    "- Support Vector Classifier (SVC) (from sklearn.svm import SVC)\n",
    "\n",
    "Apply the following models to the regression problem:\n",
    "- DecisionTreeRegressor (from sklearn.tree import DecisionTreeRegressor)\n",
    "- Mulit-layer Perceptron Regressor (from sklearn.neural_network import MLPRegressor)\n",
    "- Random Forest Regressor (from sklearn.ensemble import RandomForestRegressor)\n",
    "- Gradient Boosting Regressor (from sklearn.ensemble import GradientBoostingRegressor)"
   ],
   "metadata": {}
  },
  {
   "cell_type": "markdown",
   "source": [
    "We can also apply the models to a number of different datasets and see how the results differ.\n",
    "Apply the above models to the following datasets."
   ],
   "metadata": {}
  },
  {
   "cell_type": "code",
   "execution_count": null,
   "source": [
    "from sklearn.datasets import make_classification, make_circles, make_moons\n",
    "\n",
    "x, y = make_classification(n_features=2, n_redundant=0, n_informative=2, random_state=1, n_clusters_per_class=1)\n",
    "x += 2 * np.random.default_rng(2).uniform(size=x.shape)\n",
    "dataset2 = (x, y)\n",
    "\n",
    "dataset3 = make_moons(noise=0.3, random_state=0)\n",
    "\n",
    "dataset4 = make_circles(noise=0.2, factor=0.5, random_state=1)"
   ],
   "outputs": [],
   "metadata": {}
  },
  {
   "cell_type": "code",
   "execution_count": null,
   "source": [
    "# TODO"
   ],
   "outputs": [],
   "metadata": {}
  }
 ],
 "metadata": {
  "orig_nbformat": 4,
  "language_info": {
   "name": "python",
   "version": "3.8.5",
   "mimetype": "text/x-python",
   "codemirror_mode": {
    "name": "ipython",
    "version": 3
   },
   "pygments_lexer": "ipython3",
   "nbconvert_exporter": "python",
   "file_extension": ".py"
  },
  "kernelspec": {
   "name": "python3",
   "display_name": "Python 3.8.5 64-bit ('bi_deep_learning-M-dGzlNK': pipenv)"
  },
  "interpreter": {
   "hash": "3a851e0f79b59b2bccaf1ffc2243b1acd0ae10df96b3f2ce733c4d83b39092de"
  }
 },
 "nbformat": 4,
 "nbformat_minor": 2
}