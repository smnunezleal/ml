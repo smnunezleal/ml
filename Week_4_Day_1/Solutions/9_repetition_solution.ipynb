{
 "cells": [
  {
   "cell_type": "markdown",
   "source": [
    "# Module 9: Repetition"
   ],
   "metadata": {}
  },
  {
   "cell_type": "markdown",
   "source": [
    "In an effort to modernize our sales process, management wants to target the advertisment for customers better. Market research has concluded that this kind of advertisment is best used when the customer is in the process of ordering new products.\n",
    "\n",
    "Our task is to build system that predicts the time when a customer orders the next batch.\n",
    "\n",
    "For this we need to:\n",
    "- Analyze the historic data to identify features that can be used for prediction\n",
    "- Preprocess the data for the following steps\n",
    "- Build our system or model for prediction\n",
    "- Evaluate the feasability of the idea "
   ],
   "metadata": {}
  },
  {
   "cell_type": "code",
   "execution_count": 1,
   "source": [
    "import numpy as np\n",
    "import pandas as pd\n",
    "import matplotlib.pyplot as plt\n",
    "\n",
    "from matplotlib.colors import LinearSegmentedColormap, ListedColormap\n",
    "from pandas.core.algorithms import value_counts\n",
    "\n",
    "try:\n",
    "    # Try to use the BI style sheet for plots\n",
    "    plt.style.use('matplotlibrc')\n",
    "    plt.rcParams['axes.prop_cycle'] = plt.cycler(color=[(136/256, 76/256, 255/256), (60/256, 170/256, 207/256), (12/256, 229/256, 177/256)]) \n",
    "    \n",
    "    colors = [(0.53125, 0.296875, 0.99609375), (0.453125, 0.3984375, 0.9453125), (0.375, 0.4921875, 0.89453125), (0.3046875, 0.578125, 0.8515625), (0.234375, 0.6640625, 0.80859375), (0.16015625, 0.75390625, 0.76171875), (0.09375, 0.8359375, 0.72265625), (0.046875, 0.89453125, 0.69140625), (0.0, 0.875, 0.6640625)]\n",
    "    bicmap = LinearSegmentedColormap.from_list(name='BIcmp', \n",
    "                                                colors=colors,\n",
    "                                                N=len(colors))\n",
    "    cm_bright = ListedColormap([(0.53125, 0.296875, 0.99609375), (12/256, 229/256, 177/256)])\n",
    "except:\n",
    "    bicmap = plt.cm.BuGn \n",
    "    colors = ['r', 'g', 'b']"
   ],
   "outputs": [],
   "metadata": {}
  },
  {
   "cell_type": "markdown",
   "source": [
    "## **Exercise 9.1: Exploratory Data Analysis**"
   ],
   "metadata": {}
  },
  {
   "cell_type": "markdown",
   "source": [
    "We have the following two datasets available:\n",
    "- `Customers`: Contains the data about the contact person that makes the orders.\n",
    "- `Order History`: Contains the orders placed by each person for the past 1000 days."
   ],
   "metadata": {}
  },
  {
   "cell_type": "markdown",
   "source": [
    "**Make yourself familiar with the data**"
   ],
   "metadata": {}
  },
  {
   "cell_type": "code",
   "execution_count": 2,
   "source": [
    "# Load the dataset\n",
    "customers = pd.read_csv(\n",
    "    'customers.csv',\n",
    "    index_col='customer_id',\n",
    "    parse_dates=['birth_date', 'customer_since'])\n",
    "customers.head()"
   ],
   "outputs": [
    {
     "output_type": "execute_result",
     "data": {
      "text/html": [
       "<div>\n",
       "<style scoped>\n",
       "    .dataframe tbody tr th:only-of-type {\n",
       "        vertical-align: middle;\n",
       "    }\n",
       "\n",
       "    .dataframe tbody tr th {\n",
       "        vertical-align: top;\n",
       "    }\n",
       "\n",
       "    .dataframe thead th {\n",
       "        text-align: right;\n",
       "    }\n",
       "</style>\n",
       "<table border=\"1\" class=\"dataframe\">\n",
       "  <thead>\n",
       "    <tr style=\"text-align: right;\">\n",
       "      <th></th>\n",
       "      <th>first_name</th>\n",
       "      <th>last_name</th>\n",
       "      <th>birth_date</th>\n",
       "      <th>client_group</th>\n",
       "      <th>country</th>\n",
       "      <th>user_agent</th>\n",
       "      <th>phone_number</th>\n",
       "      <th>email_provider</th>\n",
       "      <th>postal_code</th>\n",
       "      <th>street_address</th>\n",
       "      <th>credit_card_number</th>\n",
       "      <th>credit_card_provider</th>\n",
       "      <th>iban</th>\n",
       "      <th>customer_since</th>\n",
       "    </tr>\n",
       "    <tr>\n",
       "      <th>customer_id</th>\n",
       "      <th></th>\n",
       "      <th></th>\n",
       "      <th></th>\n",
       "      <th></th>\n",
       "      <th></th>\n",
       "      <th></th>\n",
       "      <th></th>\n",
       "      <th></th>\n",
       "      <th></th>\n",
       "      <th></th>\n",
       "      <th></th>\n",
       "      <th></th>\n",
       "      <th></th>\n",
       "      <th></th>\n",
       "    </tr>\n",
       "  </thead>\n",
       "  <tbody>\n",
       "    <tr>\n",
       "      <th>151</th>\n",
       "      <td>Zoey</td>\n",
       "      <td>Jansse</td>\n",
       "      <td>1954-07-14</td>\n",
       "      <td>Physician</td>\n",
       "      <td>Netherlands</td>\n",
       "      <td>Mozilla/5.0 (compatible; MSIE 8.0; Windows NT ...</td>\n",
       "      <td>057 3268174</td>\n",
       "      <td>gmail.com</td>\n",
       "      <td>3453 CD</td>\n",
       "      <td>Jessesingel 092</td>\n",
       "      <td>4234913545964337852</td>\n",
       "      <td>VISA 19 digit</td>\n",
       "      <td>NL07QTND3757675521</td>\n",
       "      <td>2014-04-02</td>\n",
       "    </tr>\n",
       "    <tr>\n",
       "      <th>92</th>\n",
       "      <td>Kristen</td>\n",
       "      <td>Hoffman</td>\n",
       "      <td>1973-01-23</td>\n",
       "      <td>Pharmacist</td>\n",
       "      <td>United States</td>\n",
       "      <td>Mozilla/5.0 (Windows NT 5.2; as-IN; rv:1.9.2.2...</td>\n",
       "      <td>001-163-449-9128x15545</td>\n",
       "      <td>hotmail.com</td>\n",
       "      <td>08714</td>\n",
       "      <td>5402 Rogers Ford Apt. 658</td>\n",
       "      <td>4229381486053797</td>\n",
       "      <td>JCB 16 digit</td>\n",
       "      <td>GB32GOQD73595599061566</td>\n",
       "      <td>2010-09-02</td>\n",
       "    </tr>\n",
       "    <tr>\n",
       "      <th>23</th>\n",
       "      <td>Janet</td>\n",
       "      <td>Hodgson</td>\n",
       "      <td>1988-08-05</td>\n",
       "      <td>Physician</td>\n",
       "      <td>Great Britain</td>\n",
       "      <td>Mozilla/5.0 (X11; Linux x86_64) AppleWebKit/53...</td>\n",
       "      <td>(0191) 496 0144</td>\n",
       "      <td>gmail.com</td>\n",
       "      <td>IM5R 9LW</td>\n",
       "      <td>78 Jeremy spur</td>\n",
       "      <td>4369738718908744</td>\n",
       "      <td>JCB 16 digit</td>\n",
       "      <td>GB83EOKU09925356128355</td>\n",
       "      <td>2011-12-01</td>\n",
       "    </tr>\n",
       "    <tr>\n",
       "      <th>446</th>\n",
       "      <td>Susana</td>\n",
       "      <td>Vélez</td>\n",
       "      <td>1959-03-22</td>\n",
       "      <td>Pharmacist</td>\n",
       "      <td>Spain</td>\n",
       "      <td>Mozilla/5.0 (X11; Linux x86_64; rv:1.9.5.20) G...</td>\n",
       "      <td>+34968 52 50 24</td>\n",
       "      <td>hotmail.com</td>\n",
       "      <td>09788</td>\n",
       "      <td>Via Cándido Mate 894 Apt. 92</td>\n",
       "      <td>3517328815692467</td>\n",
       "      <td>VISA 16 digit</td>\n",
       "      <td>ES2870145896488648151053</td>\n",
       "      <td>2018-09-06</td>\n",
       "    </tr>\n",
       "    <tr>\n",
       "      <th>375</th>\n",
       "      <td>Caitlin</td>\n",
       "      <td>Parrish</td>\n",
       "      <td>1970-09-17</td>\n",
       "      <td>Specialist</td>\n",
       "      <td>Australia</td>\n",
       "      <td>Mozilla/5.0 (iPad; CPU iPad OS 6_1_6 like Mac ...</td>\n",
       "      <td>0382094833</td>\n",
       "      <td>yahoo.com</td>\n",
       "      <td>0980</td>\n",
       "      <td>Suite 825\\n 40 Jeffrey Beach</td>\n",
       "      <td>180056187837749</td>\n",
       "      <td>American Express</td>\n",
       "      <td>GB91UMST97437818012230</td>\n",
       "      <td>2011-05-30</td>\n",
       "    </tr>\n",
       "  </tbody>\n",
       "</table>\n",
       "</div>"
      ],
      "text/plain": [
       "            first_name last_name birth_date client_group        country  \\\n",
       "customer_id                                                               \n",
       "151               Zoey    Jansse 1954-07-14    Physician    Netherlands   \n",
       "92             Kristen   Hoffman 1973-01-23   Pharmacist  United States   \n",
       "23               Janet   Hodgson 1988-08-05    Physician  Great Britain   \n",
       "446             Susana     Vélez 1959-03-22   Pharmacist          Spain   \n",
       "375            Caitlin   Parrish 1970-09-17   Specialist      Australia   \n",
       "\n",
       "                                                    user_agent  \\\n",
       "customer_id                                                      \n",
       "151          Mozilla/5.0 (compatible; MSIE 8.0; Windows NT ...   \n",
       "92           Mozilla/5.0 (Windows NT 5.2; as-IN; rv:1.9.2.2...   \n",
       "23           Mozilla/5.0 (X11; Linux x86_64) AppleWebKit/53...   \n",
       "446          Mozilla/5.0 (X11; Linux x86_64; rv:1.9.5.20) G...   \n",
       "375          Mozilla/5.0 (iPad; CPU iPad OS 6_1_6 like Mac ...   \n",
       "\n",
       "                       phone_number email_provider postal_code  \\\n",
       "customer_id                                                      \n",
       "151                     057 3268174      gmail.com     3453 CD   \n",
       "92           001-163-449-9128x15545    hotmail.com       08714   \n",
       "23                  (0191) 496 0144      gmail.com    IM5R 9LW   \n",
       "446                 +34968 52 50 24    hotmail.com       09788   \n",
       "375                      0382094833      yahoo.com        0980   \n",
       "\n",
       "                            street_address   credit_card_number  \\\n",
       "customer_id                                                       \n",
       "151                        Jessesingel 092  4234913545964337852   \n",
       "92               5402 Rogers Ford Apt. 658     4229381486053797   \n",
       "23                          78 Jeremy spur     4369738718908744   \n",
       "446          Via Cándido Mate 894 Apt. 92      3517328815692467   \n",
       "375           Suite 825\\n 40 Jeffrey Beach      180056187837749   \n",
       "\n",
       "            credit_card_provider                      iban customer_since  \n",
       "customer_id                                                                \n",
       "151                VISA 19 digit        NL07QTND3757675521     2014-04-02  \n",
       "92                  JCB 16 digit    GB32GOQD73595599061566     2010-09-02  \n",
       "23                  JCB 16 digit    GB83EOKU09925356128355     2011-12-01  \n",
       "446                VISA 16 digit  ES2870145896488648151053     2018-09-06  \n",
       "375             American Express    GB91UMST97437818012230     2011-05-30  "
      ]
     },
     "metadata": {},
     "execution_count": 2
    }
   ],
   "metadata": {}
  },
  {
   "cell_type": "code",
   "execution_count": 3,
   "source": [
    "order_history = pd.read_csv(\n",
    "    'order_history.csv',\n",
    "    index_col=[0, 1],\n",
    "    parse_dates=True)\n",
    "order_history.index.names = ['target', 'customer_id']\n",
    "order_history"
   ],
   "outputs": [
    {
     "output_type": "execute_result",
     "data": {
      "text/html": [
       "<div>\n",
       "<style scoped>\n",
       "    .dataframe tbody tr th:only-of-type {\n",
       "        vertical-align: middle;\n",
       "    }\n",
       "\n",
       "    .dataframe tbody tr th {\n",
       "        vertical-align: top;\n",
       "    }\n",
       "\n",
       "    .dataframe thead th {\n",
       "        text-align: right;\n",
       "    }\n",
       "</style>\n",
       "<table border=\"1\" class=\"dataframe\">\n",
       "  <thead>\n",
       "    <tr style=\"text-align: right;\">\n",
       "      <th></th>\n",
       "      <th></th>\n",
       "      <th>volume</th>\n",
       "    </tr>\n",
       "    <tr>\n",
       "      <th>target</th>\n",
       "      <th>customer_id</th>\n",
       "      <th></th>\n",
       "    </tr>\n",
       "  </thead>\n",
       "  <tbody>\n",
       "    <tr>\n",
       "      <th rowspan=\"5\" valign=\"top\">2019-09-01</th>\n",
       "      <th>375</th>\n",
       "      <td>110.454220</td>\n",
       "    </tr>\n",
       "    <tr>\n",
       "      <th>417</th>\n",
       "      <td>109.951653</td>\n",
       "    </tr>\n",
       "    <tr>\n",
       "      <th>30</th>\n",
       "      <td>61.963142</td>\n",
       "    </tr>\n",
       "    <tr>\n",
       "      <th>390</th>\n",
       "      <td>104.211573</td>\n",
       "    </tr>\n",
       "    <tr>\n",
       "      <th>66</th>\n",
       "      <td>123.841333</td>\n",
       "    </tr>\n",
       "    <tr>\n",
       "      <th>...</th>\n",
       "      <th>...</th>\n",
       "      <td>...</td>\n",
       "    </tr>\n",
       "    <tr>\n",
       "      <th rowspan=\"5\" valign=\"top\">2021-09-19</th>\n",
       "      <th>387</th>\n",
       "      <td>344.881164</td>\n",
       "    </tr>\n",
       "    <tr>\n",
       "      <th>6</th>\n",
       "      <td>208.246431</td>\n",
       "    </tr>\n",
       "    <tr>\n",
       "      <th>154</th>\n",
       "      <td>244.012238</td>\n",
       "    </tr>\n",
       "    <tr>\n",
       "      <th>136</th>\n",
       "      <td>44.809004</td>\n",
       "    </tr>\n",
       "    <tr>\n",
       "      <th>287</th>\n",
       "      <td>61.638719</td>\n",
       "    </tr>\n",
       "  </tbody>\n",
       "</table>\n",
       "<p>7548 rows × 1 columns</p>\n",
       "</div>"
      ],
      "text/plain": [
       "                            volume\n",
       "target     customer_id            \n",
       "2019-09-01 375          110.454220\n",
       "           417          109.951653\n",
       "           30            61.963142\n",
       "           390          104.211573\n",
       "           66           123.841333\n",
       "...                            ...\n",
       "2021-09-19 387          344.881164\n",
       "           6            208.246431\n",
       "           154          244.012238\n",
       "           136           44.809004\n",
       "           287           61.638719\n",
       "\n",
       "[7548 rows x 1 columns]"
      ]
     },
     "metadata": {},
     "execution_count": 3
    }
   ],
   "metadata": {}
  },
  {
   "cell_type": "code",
   "execution_count": 4,
   "source": [
    "# Define which variables you want to use as features\n",
    "features = ['country', 'customer_since', 'client_group']"
   ],
   "outputs": [],
   "metadata": {}
  },
  {
   "cell_type": "code",
   "execution_count": 5,
   "source": [
    "# The target variable will be the number of days between each order from each customer\n",
    "target = order_history.reset_index(level=0).groupby(level=0).diff().dropna()['target'].dt.days\n",
    "target"
   ],
   "outputs": [
    {
     "output_type": "execute_result",
     "data": {
      "text/plain": [
       "customer_id\n",
       "375     16\n",
       "375     37\n",
       "375      7\n",
       "375     10\n",
       "375     25\n",
       "      ... \n",
       "449    103\n",
       "399     22\n",
       "399     81\n",
       "331      2\n",
       "298     10\n",
       "Name: target, Length: 7099, dtype: int64"
      ]
     },
     "metadata": {},
     "execution_count": 5
    }
   ],
   "metadata": {}
  },
  {
   "cell_type": "code",
   "execution_count": 6,
   "source": [
    "# Our features will be\n",
    "x = customers.loc[target.index, features]\n",
    "x"
   ],
   "outputs": [
    {
     "output_type": "execute_result",
     "data": {
      "text/html": [
       "<div>\n",
       "<style scoped>\n",
       "    .dataframe tbody tr th:only-of-type {\n",
       "        vertical-align: middle;\n",
       "    }\n",
       "\n",
       "    .dataframe tbody tr th {\n",
       "        vertical-align: top;\n",
       "    }\n",
       "\n",
       "    .dataframe thead th {\n",
       "        text-align: right;\n",
       "    }\n",
       "</style>\n",
       "<table border=\"1\" class=\"dataframe\">\n",
       "  <thead>\n",
       "    <tr style=\"text-align: right;\">\n",
       "      <th></th>\n",
       "      <th>country</th>\n",
       "      <th>customer_since</th>\n",
       "      <th>client_group</th>\n",
       "    </tr>\n",
       "    <tr>\n",
       "      <th>customer_id</th>\n",
       "      <th></th>\n",
       "      <th></th>\n",
       "      <th></th>\n",
       "    </tr>\n",
       "  </thead>\n",
       "  <tbody>\n",
       "    <tr>\n",
       "      <th>375</th>\n",
       "      <td>Australia</td>\n",
       "      <td>2011-05-30</td>\n",
       "      <td>Specialist</td>\n",
       "    </tr>\n",
       "    <tr>\n",
       "      <th>375</th>\n",
       "      <td>Australia</td>\n",
       "      <td>2011-05-30</td>\n",
       "      <td>Specialist</td>\n",
       "    </tr>\n",
       "    <tr>\n",
       "      <th>375</th>\n",
       "      <td>Australia</td>\n",
       "      <td>2011-05-30</td>\n",
       "      <td>Specialist</td>\n",
       "    </tr>\n",
       "    <tr>\n",
       "      <th>375</th>\n",
       "      <td>Australia</td>\n",
       "      <td>2011-05-30</td>\n",
       "      <td>Specialist</td>\n",
       "    </tr>\n",
       "    <tr>\n",
       "      <th>375</th>\n",
       "      <td>Australia</td>\n",
       "      <td>2011-05-30</td>\n",
       "      <td>Specialist</td>\n",
       "    </tr>\n",
       "    <tr>\n",
       "      <th>...</th>\n",
       "      <td>...</td>\n",
       "      <td>...</td>\n",
       "      <td>...</td>\n",
       "    </tr>\n",
       "    <tr>\n",
       "      <th>449</th>\n",
       "      <td>Netherlands</td>\n",
       "      <td>2014-12-31</td>\n",
       "      <td>Specialist</td>\n",
       "    </tr>\n",
       "    <tr>\n",
       "      <th>399</th>\n",
       "      <td>Netherlands</td>\n",
       "      <td>2012-12-11</td>\n",
       "      <td>Physician</td>\n",
       "    </tr>\n",
       "    <tr>\n",
       "      <th>399</th>\n",
       "      <td>Netherlands</td>\n",
       "      <td>2012-12-11</td>\n",
       "      <td>Physician</td>\n",
       "    </tr>\n",
       "    <tr>\n",
       "      <th>331</th>\n",
       "      <td>Germany</td>\n",
       "      <td>1999-08-25</td>\n",
       "      <td>Specialist</td>\n",
       "    </tr>\n",
       "    <tr>\n",
       "      <th>298</th>\n",
       "      <td>Netherlands</td>\n",
       "      <td>1998-12-15</td>\n",
       "      <td>Pharmacist</td>\n",
       "    </tr>\n",
       "  </tbody>\n",
       "</table>\n",
       "<p>7099 rows × 3 columns</p>\n",
       "</div>"
      ],
      "text/plain": [
       "                 country customer_since client_group\n",
       "customer_id                                         \n",
       "375            Australia     2011-05-30   Specialist\n",
       "375            Australia     2011-05-30   Specialist\n",
       "375            Australia     2011-05-30   Specialist\n",
       "375            Australia     2011-05-30   Specialist\n",
       "375            Australia     2011-05-30   Specialist\n",
       "...                  ...            ...          ...\n",
       "449          Netherlands     2014-12-31   Specialist\n",
       "399          Netherlands     2012-12-11    Physician\n",
       "399          Netherlands     2012-12-11    Physician\n",
       "331              Germany     1999-08-25   Specialist\n",
       "298          Netherlands     1998-12-15   Pharmacist\n",
       "\n",
       "[7099 rows x 3 columns]"
      ]
     },
     "metadata": {},
     "execution_count": 6
    }
   ],
   "metadata": {}
  },
  {
   "cell_type": "markdown",
   "source": [
    "## **Exercise 9.2: Preprocessing**"
   ],
   "metadata": {}
  },
  {
   "cell_type": "code",
   "execution_count": 7,
   "source": [
    "# Preprocess the data\n",
    "# Tip: Use sklearn's pipeline to working with train/test splits easier\n",
    "# Tip: You can use make_column_transformer and make_column_selector for this\n",
    "from sklearn.compose import make_column_selector, make_column_transformer\n",
    "# Tip: You can use the Standard scaler for numeric data (dtype_include=np.number)\n",
    "# Tip: You can use the OneHotEncoder for categorical data (dtype_include=object)\n",
    "from sklearn.preprocessing import StandardScaler, OneHotEncoder\n",
    "\n",
    "ct = make_column_transformer(\n",
    "    (StandardScaler(), make_column_selector(dtype_include=np.number)),\n",
    "    (OneHotEncoder(categories=[customers[s].unique() for s in ['country', 'client_group']]), make_column_selector(dtype_include=object))\n",
    ")"
   ],
   "outputs": [],
   "metadata": {}
  },
  {
   "cell_type": "code",
   "execution_count": 8,
   "source": [
    "# Test the pipeline\n",
    "ct.fit_transform(x).toarray()"
   ],
   "outputs": [
    {
     "output_type": "execute_result",
     "data": {
      "text/plain": [
       "array([[0., 0., 0., ..., 0., 0., 1.],\n",
       "       [0., 0., 0., ..., 0., 0., 1.],\n",
       "       [0., 0., 0., ..., 0., 0., 1.],\n",
       "       ...,\n",
       "       [1., 0., 0., ..., 1., 0., 0.],\n",
       "       [0., 0., 0., ..., 0., 0., 1.],\n",
       "       [1., 0., 0., ..., 0., 1., 0.]])"
      ]
     },
     "metadata": {},
     "execution_count": 8
    }
   ],
   "metadata": {}
  },
  {
   "cell_type": "markdown",
   "source": [
    "## **Exercise 9.3: Modeling**"
   ],
   "metadata": {}
  },
  {
   "cell_type": "markdown",
   "source": [
    "**First Benchmark**"
   ],
   "metadata": {}
  },
  {
   "cell_type": "code",
   "execution_count": 9,
   "source": [
    "# We want to measure our performance against a really simple benchmark\n",
    "# Always predict the average time between orders\n",
    "from sklearn.dummy import DummyRegressor\n",
    "\n",
    "bench1 = DummyRegressor(strategy='constant', constant=target.mean())\n",
    "bench1.fit(x, target)"
   ],
   "outputs": [
    {
     "output_type": "execute_result",
     "data": {
      "text/plain": [
       "DummyRegressor(constant=array(37.0373292), strategy='constant')"
      ]
     },
     "metadata": {},
     "execution_count": 9
    }
   ],
   "metadata": {}
  },
  {
   "cell_type": "markdown",
   "source": [
    "**Second Benchmark**"
   ],
   "metadata": {}
  },
  {
   "cell_type": "code",
   "execution_count": 10,
   "source": [
    "# This more advanced benchmark takes the average time between orders of each customer\n",
    "bench2 = target.groupby(level=0).mean().loc[customers.loc[target.index].index]"
   ],
   "outputs": [],
   "metadata": {}
  },
  {
   "cell_type": "markdown",
   "source": [
    "### **Exercise 9.3.1: Simple solution**"
   ],
   "metadata": {}
  },
  {
   "cell_type": "code",
   "execution_count": 11,
   "source": [
    "# We can start with a simple model first\n",
    "from sklearn.linear_model import LinearRegression"
   ],
   "outputs": [],
   "metadata": {}
  },
  {
   "cell_type": "code",
   "execution_count": 12,
   "source": [
    "# Create a pipeline with your preprocessing pipeline and the LinearRegression() model\n",
    "from sklearn.pipeline import make_pipeline\n",
    "\n",
    "pipe = make_pipeline(ct, LinearRegression())"
   ],
   "outputs": [],
   "metadata": {}
  },
  {
   "cell_type": "code",
   "execution_count": 13,
   "source": [
    "# Evalaute the pipeline against the benchmarks\n",
    "from sklearn.metrics import mean_absolute_percentage_error, mean_absolute_error, make_scorer, mean_squared_error\n",
    "from sklearn.model_selection import cross_val_score\n",
    "\n",
    "print(f'[ML model]: {np.mean(cross_val_score(pipe, x, target, scoring=make_scorer(mean_squared_error)))}')\n",
    "\n",
    "print(f'[Bench 1]: {mean_squared_error(target, bench1.predict(x))}')\n",
    "\n",
    "print(f'[Bench 2]: {mean_squared_error(target, bench2)}')"
   ],
   "outputs": [
    {
     "output_type": "stream",
     "name": "stdout",
     "text": [
      "[ML model]: 3412.9832597961476\n",
      "[Bench 1]: 3215.4406406200387\n",
      "[Bench 2]: 1816.2965925717563\n"
     ]
    }
   ],
   "metadata": {}
  },
  {
   "cell_type": "markdown",
   "source": [
    "### **9.3.2: Optimization**"
   ],
   "metadata": {}
  },
  {
   "cell_type": "markdown",
   "source": [
    "**Use some form of optimization to find a model that performs better than benchmark 1**  \n",
    "Options:\n",
    "- Manual search\n",
    "- Grid search\n",
    "- Random search\n",
    "- Bayesian optimization\n",
    "\n",
    "Tip: You can treat the model as a hyperparameter and search for the best model and the best hyperparameter combination at the same time.\n",
    "\n",
    "Tip: It might suffice to just use a complex instead of a linear model\n"
   ],
   "metadata": {}
  },
  {
   "cell_type": "code",
   "execution_count": 14,
   "source": [
    "from sklearn.svm import SVR\n",
    "\n",
    "pipe = make_pipeline(ct, SVR())\n",
    "pipe.get_params().keys()"
   ],
   "outputs": [
    {
     "output_type": "execute_result",
     "data": {
      "text/plain": [
       "dict_keys(['memory', 'steps', 'verbose', 'columntransformer', 'svr', 'columntransformer__n_jobs', 'columntransformer__remainder', 'columntransformer__sparse_threshold', 'columntransformer__transformer_weights', 'columntransformer__transformers', 'columntransformer__verbose', 'columntransformer__standardscaler', 'columntransformer__onehotencoder', 'columntransformer__standardscaler__copy', 'columntransformer__standardscaler__with_mean', 'columntransformer__standardscaler__with_std', 'columntransformer__onehotencoder__categories', 'columntransformer__onehotencoder__drop', 'columntransformer__onehotencoder__dtype', 'columntransformer__onehotencoder__handle_unknown', 'columntransformer__onehotencoder__sparse', 'svr__C', 'svr__cache_size', 'svr__coef0', 'svr__degree', 'svr__epsilon', 'svr__gamma', 'svr__kernel', 'svr__max_iter', 'svr__shrinking', 'svr__tol', 'svr__verbose'])"
      ]
     },
     "metadata": {},
     "execution_count": 14
    }
   ],
   "metadata": {}
  },
  {
   "cell_type": "code",
   "execution_count": 15,
   "source": [
    "from sklearn.model_selection import RandomizedSearchCV\n",
    "from sklearn.utils.fixes import loguniform\n",
    "\n",
    "params = {'svr__C': loguniform(1e0, 1e3),\n",
    " 'svr__gamma': loguniform(1e-4, 1e-3),\n",
    " 'svr__kernel': ['rbf']}\n",
    "\n",
    "rs = RandomizedSearchCV(pipe, params, n_jobs=-1, n_iter=10, scoring=make_scorer(mean_squared_error)).fit(x, target)"
   ],
   "outputs": [],
   "metadata": {}
  },
  {
   "cell_type": "code",
   "execution_count": 16,
   "source": [
    "# Evalaute the pipeline against the benchmarks\n",
    "\n",
    "print(f'[ML model]: {np.mean(cross_val_score(pipe.set_params(**rs.best_params_), x, target, scoring=make_scorer(mean_squared_error)))}')\n",
    "\n",
    "print(f'[Bench 1]: {mean_squared_error(target, bench1.predict(x))}')\n",
    "\n",
    "print(f'[Bench 2]: {mean_squared_error(target, bench2)}')"
   ],
   "outputs": [
    {
     "output_type": "stream",
     "name": "stdout",
     "text": [
      "[ML model]: 3675.432072319265\n",
      "[Bench 1]: 3215.4406406200387\n",
      "[Bench 2]: 1816.2965925717563\n"
     ]
    }
   ],
   "metadata": {}
  },
  {
   "cell_type": "markdown",
   "source": [
    "### **Exercise 9.3.3: Outlier detection and Segmentation**"
   ],
   "metadata": {}
  },
  {
   "cell_type": "code",
   "execution_count": 17,
   "source": [
    "# We can aggregate the order_history data to visualize the behavior of each of our customers\n",
    "avg_order_freq = target.groupby(level=0).mean()\n",
    "avg_order_size = order_history.groupby(level=-1).mean()\n",
    "\n",
    "agg_customers = avg_order_freq.to_frame().join(avg_order_size)\n",
    "agg_customers"
   ],
   "outputs": [
    {
     "output_type": "execute_result",
     "data": {
      "text/html": [
       "<div>\n",
       "<style scoped>\n",
       "    .dataframe tbody tr th:only-of-type {\n",
       "        vertical-align: middle;\n",
       "    }\n",
       "\n",
       "    .dataframe tbody tr th {\n",
       "        vertical-align: top;\n",
       "    }\n",
       "\n",
       "    .dataframe thead th {\n",
       "        text-align: right;\n",
       "    }\n",
       "</style>\n",
       "<table border=\"1\" class=\"dataframe\">\n",
       "  <thead>\n",
       "    <tr style=\"text-align: right;\">\n",
       "      <th></th>\n",
       "      <th>target</th>\n",
       "      <th>volume</th>\n",
       "    </tr>\n",
       "    <tr>\n",
       "      <th>customer_id</th>\n",
       "      <th></th>\n",
       "      <th></th>\n",
       "    </tr>\n",
       "  </thead>\n",
       "  <tbody>\n",
       "    <tr>\n",
       "      <th>0</th>\n",
       "      <td>40.222222</td>\n",
       "      <td>224.715800</td>\n",
       "    </tr>\n",
       "    <tr>\n",
       "      <th>1</th>\n",
       "      <td>237.500000</td>\n",
       "      <td>46.915333</td>\n",
       "    </tr>\n",
       "    <tr>\n",
       "      <th>2</th>\n",
       "      <td>80.666667</td>\n",
       "      <td>320.469163</td>\n",
       "    </tr>\n",
       "    <tr>\n",
       "      <th>3</th>\n",
       "      <td>52.357143</td>\n",
       "      <td>222.244127</td>\n",
       "    </tr>\n",
       "    <tr>\n",
       "      <th>4</th>\n",
       "      <td>76.111111</td>\n",
       "      <td>308.207783</td>\n",
       "    </tr>\n",
       "    <tr>\n",
       "      <th>...</th>\n",
       "      <td>...</td>\n",
       "      <td>...</td>\n",
       "    </tr>\n",
       "    <tr>\n",
       "      <th>445</th>\n",
       "      <td>120.500000</td>\n",
       "      <td>58.306268</td>\n",
       "    </tr>\n",
       "    <tr>\n",
       "      <th>446</th>\n",
       "      <td>28.291667</td>\n",
       "      <td>79.414502</td>\n",
       "    </tr>\n",
       "    <tr>\n",
       "      <th>447</th>\n",
       "      <td>10.955882</td>\n",
       "      <td>105.670007</td>\n",
       "    </tr>\n",
       "    <tr>\n",
       "      <th>448</th>\n",
       "      <td>60.666667</td>\n",
       "      <td>175.818481</td>\n",
       "    </tr>\n",
       "    <tr>\n",
       "      <th>449</th>\n",
       "      <td>103.000000</td>\n",
       "      <td>39.384944</td>\n",
       "    </tr>\n",
       "  </tbody>\n",
       "</table>\n",
       "<p>442 rows × 2 columns</p>\n",
       "</div>"
      ],
      "text/plain": [
       "                 target      volume\n",
       "customer_id                        \n",
       "0             40.222222  224.715800\n",
       "1            237.500000   46.915333\n",
       "2             80.666667  320.469163\n",
       "3             52.357143  222.244127\n",
       "4             76.111111  308.207783\n",
       "...                 ...         ...\n",
       "445          120.500000   58.306268\n",
       "446           28.291667   79.414502\n",
       "447           10.955882  105.670007\n",
       "448           60.666667  175.818481\n",
       "449          103.000000   39.384944\n",
       "\n",
       "[442 rows x 2 columns]"
      ]
     },
     "metadata": {},
     "execution_count": 17
    }
   ],
   "metadata": {}
  },
  {
   "cell_type": "code",
   "execution_count": 18,
   "source": [
    "agg_customers.plot.scatter(x='target', y='volume')"
   ],
   "outputs": [
    {
     "output_type": "execute_result",
     "data": {
      "text/plain": [
       "<AxesSubplot:xlabel='target', ylabel='volume'>"
      ]
     },
     "metadata": {},
     "execution_count": 18
    },
    {
     "output_type": "display_data",
     "data": {
      "image/png": "[encoded data removed]",
      "text/plain": [
       "<Figure size 576x432 with 1 Axes>"
      ]
     },
     "metadata": {}
    }
   ],
   "metadata": {}
  },
  {
   "cell_type": "markdown",
   "source": [
    "In this image we can see two thinks:\n",
    "- There seem to be clusters of similar behaving customers (segement the data and build one model per segment)\n",
    "- There are a lot of outliers that can reduce our prediction accuracy (remove outliers to improved the learned function)\n",
    "\n",
    "Depending on the algorithm you choose you can segment the data and do outlier removal at the same time or do it separately.\n",
    "It is important, that you measure the impact of your decisions at each step, to validate that they are actually beneficial."
   ],
   "metadata": {}
  },
  {
   "cell_type": "code",
   "execution_count": 19,
   "source": [
    "# Let's segment the data with the KMeans algorithm\n",
    "# We should use the elbow method or the silhouette score to choose the right number of clusters\n",
    "from sklearn.cluster import KMeans\n",
    "from sklearn.metrics import silhouette_score\n",
    "\n",
    "s_score = []\n",
    "inertia = []\n",
    "num_k = list(range(2, 10+1))\n",
    "\n",
    "for k in num_k:\n",
    "    kmeans = KMeans(n_clusters=k).fit(agg_customers)\n",
    "    inertia.append(-kmeans.score(agg_customers))\n",
    "    s_score.append(silhouette_score(agg_customers, kmeans.predict(agg_customers)))"
   ],
   "outputs": [],
   "metadata": {}
  },
  {
   "cell_type": "code",
   "execution_count": 20,
   "source": [
    "fig, ax = plt.subplots(1, 2)\n",
    "\n",
    "ax[0].plot(num_k, inertia)\n",
    "ax[1].plot(num_k, s_score)"
   ],
   "outputs": [
    {
     "output_type": "execute_result",
     "data": {
      "text/plain": [
       "[<matplotlib.lines.Line2D at 0x7f67523fe6a0>]"
      ]
     },
     "metadata": {},
     "execution_count": 20
    },
    {
     "output_type": "display_data",
     "data": {
      "image/png": "[encoded data removed]",
      "text/plain": [
       "<Figure size 576x432 with 2 Axes>"
      ]
     },
     "metadata": {}
    }
   ],
   "metadata": {}
  },
  {
   "cell_type": "code",
   "execution_count": 21,
   "source": [
    "# According to our analysis we should use 4 clusters\n",
    "cluster_alg = KMeans(n_clusters=4).fit(agg_customers)\n",
    "# Let's plot the results\n",
    "agg_customers.plot.scatter(x='target', y='volume', c=cluster_alg.predict(agg_customers), cmap=bicmap, colorbar=False)"
   ],
   "outputs": [
    {
     "output_type": "execute_result",
     "data": {
      "text/plain": [
       "<AxesSubplot:xlabel='target', ylabel='volume'>"
      ]
     },
     "metadata": {},
     "execution_count": 21
    },
    {
     "output_type": "display_data",
     "data": {
      "image/png": "[encoded data removed]",
      "text/plain": [
       "<Figure size 576x432 with 1 Axes>"
      ]
     },
     "metadata": {}
    }
   ],
   "metadata": {}
  },
  {
   "cell_type": "code",
   "execution_count": 22,
   "source": [
    "results = []\n",
    "bench1_results = []\n",
    "bench2_results = []\n",
    "\n",
    "cluster_size = []\n",
    "\n",
    "for cluster_id in range(4):\n",
    "    \n",
    "    # prediction for one cluster\n",
    "    ids = agg_customers[(cluster_alg.predict(agg_customers) == cluster_id)].index\n",
    "    x_segment = x.loc[ids]\n",
    "    target_segment = target.loc[ids]\n",
    "\n",
    "    print(ids.size)\n",
    "\n",
    "    results.append(np.mean(cross_val_score(pipe, x.loc[ids], target.loc[ids], scoring=make_scorer(mean_squared_error))))\n",
    "    print(f'[ML model]: {results[-1]:0.2f}')\n",
    "\n",
    "    # Build a new Regressor for each segment\n",
    "    dr = DummyRegressor(strategy='constant', constant=target.mean())\n",
    "    dr.fit(x.loc[ids], target.loc[ids])\n",
    "    bench1_results.append(mean_squared_error(target.loc[ids], dr.predict(x.loc[ids])))\n",
    "    print(f'[Bench 1]: {bench1_results[-1]:0.2f}')\n",
    "\n",
    "    bench2_results.append(mean_squared_error(target.loc[ids], target.loc[ids].groupby(level=0).mean().loc[customers.loc[target.loc[ids].index].index]))\n",
    "    print(f'[Bench 2]: {bench2_results[-1]:0.2f}')\n",
    "\n",
    "    cluster_size.append(ids.size)\n",
    "    print('#'*30)"
   ],
   "outputs": [
    {
     "output_type": "stream",
     "name": "stdout",
     "text": [
      "159\n",
      "[ML model]: 732.33\n",
      "[Bench 1]: 907.11\n",
      "[Bench 2]: 508.63\n",
      "##############################\n",
      "111\n",
      "[ML model]: 8778.52\n",
      "[Bench 1]: 11920.90\n",
      "[Bench 2]: 6925.07\n",
      "##############################\n",
      "146\n",
      "[ML model]: 4959.76\n",
      "[Bench 1]: 5068.97\n",
      "[Bench 2]: 3452.29\n",
      "##############################\n",
      "26\n",
      "[ML model]: 36566.61\n",
      "[Bench 1]: 78785.96\n",
      "[Bench 2]: 29202.76\n",
      "##############################\n"
     ]
    }
   ],
   "metadata": {}
  },
  {
   "cell_type": "code",
   "execution_count": 23,
   "source": [
    "# Calculate the total gain of the change\n",
    "weights = np.array(cluster_size)/np.sum(cluster_size)\n",
    "\n",
    "print(f'[ML model]: {np.average(results, weights=weights)}')\n",
    "\n",
    "print(f'[Bench 1]: {np.average(bench1_results, weights=weights)}')\n",
    "\n",
    "print(f'[Bench 2]: {np.average(bench2_results, weights=weights)}')"
   ],
   "outputs": [
    {
     "output_type": "stream",
     "name": "stdout",
     "text": [
      "[ML model]: 6257.268963012758\n",
      "[Bench 1]: 9628.858630747194\n",
      "[Bench 2]: 4780.229399840364\n"
     ]
    }
   ],
   "metadata": {}
  },
  {
   "cell_type": "code",
   "execution_count": 24,
   "source": [
    "# Remove the outliers with a method of your choice\n",
    "from sklearn.ensemble import IsolationForest\n",
    "\n",
    "iforest = IsolationForest(n_jobs=-1, contamination=0.09).fit(agg_customers)\n",
    "agg_customers.plot.scatter(x='target', y='volume', c=iforest.predict(agg_customers), cmap=bicmap, colorbar=False)\n",
    "\n",
    "wo_outliers = agg_customers[iforest.predict(agg_customers)==1]"
   ],
   "outputs": [
    {
     "output_type": "display_data",
     "data": {
      "image/png": "[encoded data removed]",
      "text/plain": [
       "<Figure size 576x432 with 1 Axes>"
      ]
     },
     "metadata": {}
    }
   ],
   "metadata": {}
  },
  {
   "cell_type": "code",
   "execution_count": 25,
   "source": [
    "s_score = []\n",
    "inertia = []\n",
    "num_k = list(range(2, 10+1))\n",
    "\n",
    "for k in num_k:\n",
    "    kmeans = KMeans(n_clusters=k).fit(wo_outliers)\n",
    "    inertia.append(-kmeans.score(wo_outliers))\n",
    "    s_score.append(silhouette_score(wo_outliers, kmeans.predict(wo_outliers)))\n",
    "\n",
    "fig, ax = plt.subplots(1, 2)\n",
    "\n",
    "ax[0].plot(num_k, inertia)\n",
    "ax[1].plot(num_k, s_score)"
   ],
   "outputs": [
    {
     "output_type": "execute_result",
     "data": {
      "text/plain": [
       "[<matplotlib.lines.Line2D at 0x7f674fb53580>]"
      ]
     },
     "metadata": {},
     "execution_count": 25
    },
    {
     "output_type": "display_data",
     "data": {
      "image/png": "[encoded data removed]",
      "text/plain": [
       "<Figure size 576x432 with 2 Axes>"
      ]
     },
     "metadata": {}
    }
   ],
   "metadata": {}
  },
  {
   "cell_type": "code",
   "execution_count": 26,
   "source": [
    "# According to our analysis we should use 4 clusters\n",
    "cluster_alg = KMeans(n_clusters=3).fit(wo_outliers)\n",
    "# Let's plot the results\n",
    "wo_outliers.plot.scatter(x='target', y='volume', c=cluster_alg.predict(wo_outliers), cmap=bicmap, colorbar=False)"
   ],
   "outputs": [
    {
     "output_type": "execute_result",
     "data": {
      "text/plain": [
       "<AxesSubplot:xlabel='target', ylabel='volume'>"
      ]
     },
     "metadata": {},
     "execution_count": 26
    },
    {
     "output_type": "display_data",
     "data": {
      "image/png": "[encoded data removed]",
      "text/plain": [
       "<Figure size 576x432 with 1 Axes>"
      ]
     },
     "metadata": {}
    }
   ],
   "metadata": {}
  },
  {
   "cell_type": "code",
   "execution_count": 27,
   "source": [
    "results = []\n",
    "bench1_results = []\n",
    "bench2_results = []\n",
    "\n",
    "cluster_size = []\n",
    "\n",
    "for cluster_id in range(3):\n",
    "    \n",
    "    # prediction for one cluster\n",
    "    ids = wo_outliers[(cluster_alg.predict(wo_outliers) == cluster_id)].index\n",
    "    x_segment = x.loc[ids]\n",
    "    target_segment = target.loc[ids]\n",
    "\n",
    "    print(ids.size)\n",
    "\n",
    "    results.append(np.mean(cross_val_score(pipe, x.loc[ids], target.loc[ids], scoring=make_scorer(mean_squared_error))))\n",
    "    print(f'[ML model]: {results[-1]:0.2f}')\n",
    "\n",
    "    # Build a new Regressor for each segment\n",
    "    dr = DummyRegressor(strategy='constant', constant=target.mean())\n",
    "    dr.fit(x.loc[ids], target.loc[ids])\n",
    "    bench1_results.append(mean_squared_error(target.loc[ids], dr.predict(x.loc[ids])))\n",
    "    print(f'[Bench 1]: {bench1_results[-1]:0.2f}')\n",
    "\n",
    "    bench2_results.append(mean_squared_error(target.loc[ids], target.loc[ids].groupby(level=0).mean().loc[customers.loc[target.loc[ids].index].index]))\n",
    "    print(f'[Bench 2]: {bench2_results[-1]:0.2f}')\n",
    "\n",
    "    cluster_size.append(ids.size)\n",
    "    print('#'*30)"
   ],
   "outputs": [
    {
     "output_type": "stream",
     "name": "stdout",
     "text": [
      "103\n",
      "[ML model]: 11923.32\n",
      "[Bench 1]: 17392.36\n",
      "[Bench 2]: 9604.69\n",
      "##############################\n",
      "127\n",
      "[ML model]: 3955.58\n",
      "[Bench 1]: 3978.34\n",
      "[Bench 2]: 2948.95\n",
      "##############################\n",
      "172\n",
      "[ML model]: 812.31\n",
      "[Bench 1]: 955.04\n",
      "[Bench 2]: 548.94\n",
      "##############################\n"
     ]
    }
   ],
   "metadata": {}
  },
  {
   "cell_type": "code",
   "execution_count": 28,
   "source": [
    "# Calculate the total gain of the change\n",
    "weights = np.array(cluster_size)/np.sum(cluster_size)\n",
    "\n",
    "print(f'[ML model]: {np.average(results, weights=weights)}')\n",
    "\n",
    "print(f'[Bench 1]: {np.average(bench1_results, weights=weights)}')\n",
    "\n",
    "print(f'[Bench 2]: {np.average(bench2_results, weights=weights)}')"
   ],
   "outputs": [
    {
     "output_type": "stream",
     "name": "stdout",
     "text": [
      "[ML model]: 4652.183067624408\n",
      "[Bench 1]: 6121.713210000249\n",
      "[Bench 2]: 3627.4054523669183\n"
     ]
    }
   ],
   "metadata": {}
  },
  {
   "cell_type": "markdown",
   "source": [
    "## **Exercise 9.4: Evaluation**"
   ],
   "metadata": {}
  },
  {
   "cell_type": "markdown",
   "source": [
    "Based on the work above, evaluate your final model on the test dataset.\n",
    "\n",
    "You can use the complete training dataset for training now.\n",
    "\n",
    "**What is the final evaluation performance you achieve on the test set?**"
   ],
   "metadata": {}
  },
  {
   "cell_type": "code",
   "execution_count": 29,
   "source": [
    "# Train one model per cluster\n",
    "\n",
    "results = []\n",
    "bench1_results = []\n",
    "bench2_results = []\n",
    "\n",
    "models = []\n",
    "\n",
    "for cluster_id in range(3):\n",
    "    # prediction for one cluster\n",
    "    ids = wo_outliers[(cluster_alg.predict(wo_outliers) == cluster_id)].index\n",
    "    x_segment = x.loc[ids]\n",
    "    target_segment = target.loc[ids]\n",
    "\n",
    "    ct = make_column_transformer(\n",
    "        (StandardScaler(), make_column_selector(dtype_include=np.number)),\n",
    "        (OneHotEncoder(categories=[customers[s].unique() for s in ['country', 'client_group']]), make_column_selector(dtype_include=object))\n",
    "    )\n",
    "    pipe = make_pipeline(ct, SVR())\n",
    "\n",
    "    pipe.fit(x.loc[ids], target.loc[ids])\n",
    "\n",
    "    models.append(pipe)"
   ],
   "outputs": [],
   "metadata": {}
  },
  {
   "cell_type": "code",
   "execution_count": 30,
   "source": [
    "# Load the test data\n",
    "test_customers = pd.read_csv(\n",
    "    'customers.csv',\n",
    "    index_col='customer_id',\n",
    "    parse_dates=['birth_date', 'customer_since'])\n",
    "test_order_history = pd.read_csv(\n",
    "    'order_history.csv',\n",
    "    index_col=[0, 1],\n",
    "    parse_dates=True)\n",
    "test_order_history.index.names = ['target', 'customer_id']"
   ],
   "outputs": [],
   "metadata": {}
  },
  {
   "cell_type": "code",
   "execution_count": 31,
   "source": [
    "# Perform the same operations as on the test data\n",
    "test_target = test_order_history.reset_index(level=0).groupby(level=0).diff().dropna()['target'].dt.days\n",
    "test_x = customers.loc[test_target.index, features]\n",
    "\n",
    "avg_order_freq = test_target.groupby(level=0).mean()\n",
    "avg_order_size = test_order_history.groupby(level=-1).mean()\n",
    "\n",
    "agg_customers = avg_order_freq.to_frame().join(avg_order_size)"
   ],
   "outputs": [],
   "metadata": {}
  },
  {
   "cell_type": "code",
   "execution_count": 32,
   "source": [
    "# Remove the outliers\n",
    "wo_outliers = agg_customers[iforest.predict(agg_customers)==1]\n",
    "outliers = agg_customers[iforest.predict(agg_customers)==0]\n",
    "\n",
    "results = []\n",
    "size = []\n",
    "\n",
    "# for the outliers predict the mean\n",
    "mean = target.mean()\n",
    "\n",
    "if not outliers.empty:\n",
    "    results.append(\n",
    "        mean_squared_error(\n",
    "            test_target[outliers.index],\n",
    "            [mean for i in range(outliers.index.size)]\n",
    "        ))\n",
    "    size.append(outliers.index.size)\n",
    "\n",
    "for cluster_id in range(3):\n",
    "    # prediction for one cluster\n",
    "    ids = wo_outliers[(cluster_alg.predict(wo_outliers) == cluster_id)].index\n",
    "    x_segment = test_x.loc[ids]\n",
    "    target_segment = test_target.loc[ids]\n",
    "\n",
    "    results.append(mean_squared_error(target_segment, models[cluster_id].predict(x_segment)))\n",
    "    size.append(ids.size)\n",
    "\n",
    "weights = np.array(size)/np.sum(size)\n",
    "\n",
    "print(f'[ML model]: {np.average(results, weights=weights)}')"
   ],
   "outputs": [
    {
     "output_type": "stream",
     "name": "stdout",
     "text": [
      "[ML model]: 4557.5654343459455\n"
     ]
    }
   ],
   "metadata": {}
  }
 ],
 "metadata": {
  "orig_nbformat": 4,
  "language_info": {
   "name": "python",
   "version": "3.8.5",
   "mimetype": "text/x-python",
   "codemirror_mode": {
    "name": "ipython",
    "version": 3
   },
   "pygments_lexer": "ipython3",
   "nbconvert_exporter": "python",
   "file_extension": ".py"
  },
  "kernelspec": {
   "name": "python3",
   "display_name": "Python 3.8.5 64-bit ('bi_deep_learning-M-dGzlNK': pipenv)"
  },
  "interpreter": {
   "hash": "3a851e0f79b59b2bccaf1ffc2243b1acd0ae10df96b3f2ce733c4d83b39092de"
  }
 },
 "nbformat": 4,
 "nbformat_minor": 2
}