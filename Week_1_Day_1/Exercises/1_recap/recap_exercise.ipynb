{
 "cells": [
  {
   "cell_type": "markdown",
   "source": [
    "# Module 1: Recap"
   ],
   "metadata": {}
  },
  {
   "cell_type": "markdown",
   "source": [
    "## **Exercise 1.1: Numpy**"
   ],
   "metadata": {}
  },
  {
   "cell_type": "markdown",
   "source": [
    "Numpy let's you work efficiently with arrays of values. Pandas is an extension on top of numpy which adds additional functionality and usability."
   ],
   "metadata": {}
  },
  {
   "cell_type": "code",
   "execution_count": null,
   "source": [
    "import numpy as np\n",
    "# Creating an example array of ones.\n",
    "a = np.ones(10)\n",
    "a"
   ],
   "outputs": [],
   "metadata": {}
  },
  {
   "cell_type": "code",
   "execution_count": null,
   "source": [
    "# Perform mathematical operations on the whole array\n",
    "a + 1"
   ],
   "outputs": [],
   "metadata": {}
  },
  {
   "cell_type": "code",
   "execution_count": null,
   "source": [
    "# Divide each value in \"a\" by two.\n",
    "# TODO"
   ],
   "outputs": [],
   "metadata": {}
  },
  {
   "cell_type": "code",
   "execution_count": null,
   "source": [
    "# Double every number in \"a\".\n",
    "# TODO"
   ],
   "outputs": [],
   "metadata": {}
  },
  {
   "cell_type": "code",
   "execution_count": null,
   "source": [
    "# You can also create arrays from normal python lists\n",
    "b = np.array([2, 4, 6, 8, 10, 1, 3, 5, 7, 9])\n",
    "b"
   ],
   "outputs": [],
   "metadata": {}
  },
  {
   "cell_type": "code",
   "execution_count": null,
   "source": [
    "# Operations between arrays is also supported\n",
    "a - b"
   ],
   "outputs": [],
   "metadata": {}
  },
  {
   "cell_type": "code",
   "execution_count": null,
   "source": [
    "# Divide \"a\" by \"b\" and see what happens.\n",
    "# TODO"
   ],
   "outputs": [],
   "metadata": {}
  },
  {
   "cell_type": "code",
   "execution_count": null,
   "source": [
    "# You can access specific elements inside an array by using the \"[]\"-operator\n",
    "# This gives us the first element in the array\n",
    "b[0]"
   ],
   "outputs": [],
   "metadata": {}
  },
  {
   "cell_type": "code",
   "execution_count": null,
   "source": [
    "# This gives you the last element in the array\n",
    "b[-1]\n",
    "# which is the same as b[len(b)-1]"
   ],
   "outputs": [],
   "metadata": {}
  },
  {
   "cell_type": "code",
   "execution_count": null,
   "source": [
    "# Return the third element in the array b\n",
    "# TODO"
   ],
   "outputs": [],
   "metadata": {}
  },
  {
   "cell_type": "code",
   "execution_count": null,
   "source": [
    "# You can also access ranges of elements.\n",
    "# Example: Accessing the second to fourth element in the array.\n",
    "b[1:4]"
   ],
   "outputs": [],
   "metadata": {}
  },
  {
   "cell_type": "code",
   "execution_count": null,
   "source": [
    "# Access all element but the last\n",
    "# TODO"
   ],
   "outputs": [],
   "metadata": {}
  },
  {
   "cell_type": "code",
   "execution_count": null,
   "source": [
    "# Multi-dimensional arrays are also possible with numpy\n",
    "# You can reshape an array into a multi-dimensional array.\n",
    "# Example: Reshaping the one-dimensional array \"b\" into a two-dimensional one.\n",
    "c = b.reshape(2, 5)\n",
    "c"
   ],
   "outputs": [],
   "metadata": {}
  },
  {
   "cell_type": "code",
   "execution_count": null,
   "source": [
    "# Access the first dimension in array \"c\".\n",
    "c[0]"
   ],
   "outputs": [],
   "metadata": {}
  },
  {
   "cell_type": "code",
   "execution_count": null,
   "source": [
    "# Now access the second dimension in array \"c\".\n",
    "# TODO"
   ],
   "outputs": [],
   "metadata": {}
  },
  {
   "cell_type": "code",
   "execution_count": null,
   "source": [
    "# You can select an element by specifying the position in both dimensions (axis) separated by a comma.\n",
    "# Example: Selecting the element in the first row and second column.\n",
    "c[0, 1]"
   ],
   "outputs": [],
   "metadata": {}
  },
  {
   "cell_type": "code",
   "execution_count": null,
   "source": [
    "# Now select the fourth column in the second row.\n",
    "# TODO"
   ],
   "outputs": [],
   "metadata": {}
  },
  {
   "cell_type": "code",
   "execution_count": null,
   "source": [
    "# You can also select all elements by using the \":\"-operator.\n",
    "# Example: Selecting all elements of the third column.\n",
    "c[:, 2]"
   ],
   "outputs": [],
   "metadata": {}
  },
  {
   "cell_type": "code",
   "execution_count": null,
   "source": [
    "# Select all elements of the first column.\n",
    "# TODO"
   ],
   "outputs": [],
   "metadata": {}
  },
  {
   "cell_type": "markdown",
   "source": [
    "## **Exercise 1.1.2: Pandas**"
   ],
   "metadata": {}
  },
  {
   "cell_type": "markdown",
   "source": [
    "Pandas is an additional layer on top of numpy. Pandas internally uses the efficient numpy arrays, but adds additional named indexing and other convenience functions."
   ],
   "metadata": {}
  },
  {
   "cell_type": "code",
   "execution_count": null,
   "source": [
    "import pandas as pd\n",
    "# You can convert every numpy array into a pandas DataFrame\n",
    "df = pd.DataFrame(b)\n",
    "df"
   ],
   "outputs": [],
   "metadata": {}
  },
  {
   "cell_type": "code",
   "execution_count": null,
   "source": [
    "# You can access the numpy array with the .values attribute\n",
    "df.values"
   ],
   "outputs": [],
   "metadata": {}
  },
  {
   "cell_type": "code",
   "execution_count": null,
   "source": [
    "# DataFrames are always 2-D tables\n",
    "# You can give names to columns and rows\n",
    "df = pd.DataFrame(b, columns=['values'], index=[f'index {i}' for i in range(len(b))])\n",
    "df"
   ],
   "outputs": [],
   "metadata": {}
  },
  {
   "cell_type": "code",
   "execution_count": null,
   "source": [
    "# You can add columns at any time\n",
    "df['array_a'] = a\n",
    "df"
   ],
   "outputs": [],
   "metadata": {}
  },
  {
   "cell_type": "code",
   "execution_count": null,
   "source": [
    "# You can access the column with the same method\n",
    "df['array_a']"
   ],
   "outputs": [],
   "metadata": {}
  },
  {
   "cell_type": "code",
   "execution_count": null,
   "source": [
    "# Create the new column \"added\" which is the sum of \"array_a\" and \"values\"\n",
    "# TODO"
   ],
   "outputs": [],
   "metadata": {}
  },
  {
   "cell_type": "code",
   "execution_count": null,
   "source": [
    "# You can index by the index column with\n",
    "df.loc['index 2']\n",
    "# which gives you a single row of the DataFrame"
   ],
   "outputs": [],
   "metadata": {}
  },
  {
   "cell_type": "markdown",
   "source": [
    "### **Exercise 1.1.3: Matplotlib**"
   ],
   "metadata": {}
  },
  {
   "cell_type": "markdown",
   "source": [
    "Matplotlib will be the go-to visualization library for the following exercises.\n",
    "\n",
    "We can use matplotlib directly or use pandas plotting for visualizations."
   ],
   "metadata": {}
  },
  {
   "cell_type": "code",
   "execution_count": null,
   "source": [
    "# Import matplotlib\n",
    "import matplotlib.pyplot as plt"
   ],
   "outputs": [],
   "metadata": {}
  },
  {
   "cell_type": "code",
   "execution_count": null,
   "source": [
    "# Create a plot\n",
    "plt.plot([1, 2, 3, 4], [1, 2, 4, 8])"
   ],
   "outputs": [],
   "metadata": {}
  },
  {
   "cell_type": "code",
   "execution_count": null,
   "source": [
    "# The graph will automatically be plotted after the cell ends.\n",
    "# You can control when the plot is shown with plt.show()\n",
    "# You can customize aspects of the plot with setter functions\n",
    "plt.plot([1, 2, 3, 4], [1, 2, 4, 8], label='line1')\n",
    "plt.plot([1, 2, 3, 4], [1.5, 2.5, 4.5, 8.5], label='line2')\n",
    "plt.xlabel('x-axis')\n",
    "plt.ylabel('y-axis')\n",
    "plt.title('Line plot')\n",
    "# Show a legend with the label information of all lines\n",
    "plt.legend()\n",
    "plt.show()"
   ],
   "outputs": [],
   "metadata": {}
  },
  {
   "cell_type": "code",
   "execution_count": null,
   "source": [
    "# There are different plotting functions available\n",
    "# E.g., scatter plot\n",
    "plt.scatter([1, 2, 3, 4], [1, 2, 4, 8])\n",
    "plt.title('Scatter plot')"
   ],
   "outputs": [],
   "metadata": {}
  },
  {
   "cell_type": "code",
   "execution_count": null,
   "source": [
    "# Create a scatter plot from the \"df\" of the previous exercise\n",
    "# The column \"added\" will be the x-value and the \"values\" column the y-axis\n",
    "# TODO"
   ],
   "outputs": [],
   "metadata": {}
  },
  {
   "cell_type": "code",
   "execution_count": null,
   "source": [
    "# Create the same plot by using df.plot.scatter()\n",
    "# TODO"
   ],
   "outputs": [],
   "metadata": {}
  },
  {
   "cell_type": "markdown",
   "source": [
    "### **Exercise 1.1.3: Scikit-learn**"
   ],
   "metadata": {}
  },
  {
   "cell_type": "markdown",
   "source": [
    "Scikit-learn or sklearn for short is a python machine learning framework, which includes the most important machine learning models and a number of preprocessing methods.\n",
    "\n",
    "The framework has a consistent framework which applies to everything you can find inside sklearn.\n",
    "\n",
    "Let's take a look at this framework."
   ],
   "metadata": {}
  },
  {
   "cell_type": "code",
   "execution_count": null,
   "source": [
    "# This statement imports a simple dataset to play around with\n",
    "from sklearn.datasets import make_classification\n",
    "\n",
    "x, y = make_classification(n_features=2, n_redundant=0, n_informative=2, random_state=1, n_clusters_per_class=1)"
   ],
   "outputs": [],
   "metadata": {}
  },
  {
   "cell_type": "code",
   "execution_count": null,
   "source": [
    "# Visualize the dataset with a scatter plot. Using the two features as x-axis and y-axis and the class as the coloring\n",
    "# TODO"
   ],
   "outputs": [],
   "metadata": {}
  },
  {
   "cell_type": "code",
   "execution_count": null,
   "source": [
    "# \"Transformers\" are used to preprocess the data before they are used in a model\n",
    "from sklearn.preprocessing import StandardScaler\n",
    "\n",
    "# First initialize a new StandardScaler object\n",
    "scaler = StandardScaler()\n",
    "# Call the fit method of the scaler and pass the x variable as parameter\n",
    "scaler.fit(x)\n",
    "# This will fit the scaler object on the data\n",
    "# Now call the transformer method of the scaler object and pass the x variable again\n",
    "# Save the transformed x in a new variable\n",
    "# TODO"
   ],
   "outputs": [],
   "metadata": {}
  },
  {
   "cell_type": "code",
   "execution_count": null,
   "source": [
    "# Now that we scaled the data it can be used in an \"estimator\"\n",
    "# Instead of \"fit\" and \"transform\", estimators have the method \"fit\" and \"predict\"\n",
    "# Based on the data seen during the training (\"fit\") the model can make predicitons (\"predict\")\n",
    "from sklearn.linear_model import LogisticRegression\n",
    "# Initialize the LogisticRegression model\n",
    "# TODO\n",
    "# Fit the LogisticRegression object on the data (x, y)\n",
    "# TODO\n",
    "# Perform a prediciton on the features (x) and save the results in a variable\n",
    "# TODO"
   ],
   "outputs": [],
   "metadata": {}
  },
  {
   "cell_type": "code",
   "execution_count": null,
   "source": [
    "# Now that you made a predicition, we have to test how well the model performs\n",
    "# Sklearn provides a number of metrics to test your models\n",
    "from sklearn.metrics import accuracy_score\n",
    "# Use the accuracy_score to calculate the accuracy of your model\n",
    "# Tip: The accuracy_score needs the true labels and the predicted labels as input\n",
    "# TODO"
   ],
   "outputs": [],
   "metadata": {}
  }
 ],
 "metadata": {
  "orig_nbformat": 4,
  "language_info": {
   "name": "python",
   "version": "3.8.5",
   "mimetype": "text/x-python",
   "codemirror_mode": {
    "name": "ipython",
    "version": 3
   },
   "pygments_lexer": "ipython3",
   "nbconvert_exporter": "python",
   "file_extension": ".py"
  },
  "kernelspec": {
   "name": "python3",
   "display_name": "Python 3.8.5 64-bit ('bi_deep_learning-M-dGzlNK': pipenv)"
  },
  "interpreter": {
   "hash": "3a851e0f79b59b2bccaf1ffc2243b1acd0ae10df96b3f2ce733c4d83b39092de"
  }
 },
 "nbformat": 4,
 "nbformat_minor": 2
}